{
 "cells": [
  {
   "cell_type": "markdown",
   "metadata": {},
   "source": [
    "![img](ep8_2018-57x57.png)\n",
    "\n",
    "# To bar, or not to bar - what is the intention?\n",
    "\n",
    "**post @** [endlesspint.com](http://endlesspint.com/2018-11-07-to-bar-or-not-to-bar/)"
   ]
  },
  {
   "cell_type": "code",
   "execution_count": 1,
   "metadata": {},
   "outputs": [],
   "source": [
    "import numpy as np\n",
    "import pandas as pd\n",
    "from scipy import stats\n",
    "\n",
    "import matplotlib.pyplot as plt\n",
    "%matplotlib inline"
   ]
  },
  {
   "cell_type": "code",
   "execution_count": 2,
   "metadata": {},
   "outputs": [],
   "source": [
    "# comfort level\n",
    "L = 60.\n",
    "\n",
    "# wishing to attend\n",
    "N = 100.\n",
    "\n",
    "# previous 'm' Friday nights\n",
    "m = 2."
   ]
  },
  {
   "cell_type": "code",
   "execution_count": 3,
   "metadata": {},
   "outputs": [
    {
     "data": {
      "text/plain": [
       "array([0.87344206, 0.96854381, 0.86920762, 0.53090261, 0.23280506,\n",
       "       0.01149766, 0.43052577, 0.40241112, 0.5227224 , 0.47844396])"
      ]
     },
     "execution_count": 3,
     "metadata": {},
     "output_type": "execute_result"
    }
   ],
   "source": [
    "N = 100\n",
    "\n",
    "def preferences(N):\n",
    "    return np.random.uniform(.0001,1,N)\n",
    "\n",
    "np.random.seed(8)\n",
    "patron_p = preferences(N)\n",
    "patron_p[:10]"
   ]
  },
  {
   "cell_type": "code",
   "execution_count": 4,
   "metadata": {},
   "outputs": [
    {
     "data": {
      "image/png": "[encoded data removed]",
      "text/plain": [
       "<Figure size 432x288 with 1 Axes>"
      ]
     },
     "metadata": {},
     "output_type": "display_data"
    }
   ],
   "source": [
    "# https://stackoverflow.com/questions/22744577/plotting-basic-uniform-distribution-on-python\n",
    "count, bins, ignored = plt.hist(patron_p, 25, facecolor='green')"
   ]
  },
  {
   "cell_type": "code",
   "execution_count": 5,
   "metadata": {},
   "outputs": [
    {
     "name": "stdout",
     "output_type": "stream",
     "text": [
      "the count that went out & stayed in, respectively:  57 43\n",
      "the tally for the 'correct' choice:  57\n"
     ]
    }
   ],
   "source": [
    "def any_given_friday_night(patron_p, N=100, L=60, ind_friday=True):\n",
    "    \n",
    "    tally = np.zeros(N)\n",
    "    # either one rand number or one for each, we'll see...\n",
    "    if ind_friday == True:\n",
    "        friday = np.random.uniform(.0001,1, N)\n",
    "    else:\n",
    "        friday = np.random.uniform(.0001, 1)\n",
    "    \n",
    "    going_out = friday <= patron_p\n",
    "    staying_in = np.invert(going_out)\n",
    "    \n",
    "    yes_cnt = np.sum(going_out)\n",
    "    nos_cnt = N - yes_cnt\n",
    "    \n",
    "    if yes_cnt == L:    # bar at optimal capacity everyone choose right/wins\n",
    "        tally += going_out\n",
    "        tally += staying_in\n",
    "#         print(tally)\n",
    "    elif yes_cnt < L:   # extra space at bar, should've gone out\n",
    "        tally += going_out\n",
    "        tally -= staying_in\n",
    "#         print(tally)\n",
    "    else:               # overcrowded bar, should've stayed in\n",
    "        tally -= going_out\n",
    "        tally += staying_in\n",
    "#         print(tally)\n",
    "    \n",
    "    return yes_cnt, nos_cnt, tally, going_out\n",
    "\n",
    "\n",
    "np.random.seed(9)\n",
    "bar_y, bar_n, tally_run, _ = any_given_friday_night(patron_p, ind_friday=True)\n",
    "print(\"the count that went out & stayed in, respectively: \", bar_y, bar_n)\n",
    "print(\"the tally for the 'correct' choice: \", np.sum(tally_run==1))"
   ]
  },
  {
   "cell_type": "code",
   "execution_count": 6,
   "metadata": {},
   "outputs": [
    {
     "name": "stdout",
     "output_type": "stream",
     "text": [
      "[30, 30, 29, 24, 28, 87, 30, 9, 95, 85]\n",
      "[70, 70, 71, 76, 72, 13, 70, 91, 5, 15]\n",
      "15\n",
      "[ 1. -1. -1. -1. -1. -1.  1. -1.  1. -1.]\n",
      "[True, True, True, True, True, False, True, True, False, False]\n"
     ]
    },
    {
     "data": {
      "text/plain": [
       "array([ 1.,  1.,  1.,  1.,  1., -1.,  1.,  1., -1., -1.])"
      ]
     },
     "execution_count": 6,
     "metadata": {},
     "output_type": "execute_result"
    }
   ],
   "source": [
    "yes = []\n",
    "nos = []\n",
    "tally_run = np.zeros(N)\n",
    "# m = []  # historical winning strategy\n",
    "\n",
    "# np.random.seed(10)\n",
    "for i in range(100):\n",
    "    bar_y, bar_n, tally_run, going_out = any_given_friday_night(patron_p, ind_friday=False)\n",
    "    yes.append(bar_y)\n",
    "    nos.append(bar_n)\n",
    "        \n",
    "    \n",
    "print(yes[-10:])\n",
    "print(nos[-10:])\n",
    "print(np.sum(tally_run==1))\n",
    "\n",
    "m = [True if y<=60 else False for y in yes]\n",
    "print(tally_run[-10:])\n",
    "print(m[-10:])\n",
    "np.zeros(10) + m[-10:] - np.invert(m[-10:])"
   ]
  },
  {
   "cell_type": "code",
   "execution_count": 7,
   "metadata": {},
   "outputs": [
    {
     "data": {
      "text/plain": [
       "<matplotlib.lines.Line2D at 0x2524912ef28>"
      ]
     },
     "execution_count": 7,
     "metadata": {},
     "output_type": "execute_result"
    },
    {
     "data": {
      "image/png": "[encoded data removed]",
      "text/plain": [
       "<Figure size 1152x576 with 1 Axes>"
      ]
     },
     "metadata": {},
     "output_type": "display_data"
    }
   ],
   "source": [
    "# https://matplotlib.org/gallery/lines_bars_and_markers/bar_stacked.html\n",
    "plt.figure(figsize=(16,8))\n",
    "ind = np.arange(100)\n",
    "p1 = plt.bar(ind, yes)\n",
    "p2 = plt.bar(ind, nos, bottom=yes)\n",
    "plt.axhline(y=60, linewidth=5, color='red')"
   ]
  },
  {
   "cell_type": "markdown",
   "metadata": {},
   "source": [
    "** individual cut offs for going out/staying in result in too wild of swings, above just one example; later on, even with updating preferences, it remains eratic **\n",
    "\n",
    "## iterate through tally, compare against 'd' (wins - loses threshold)\n",
    "## set up 'patron_p' change for \"losers\"\n",
    "## use 'm' to determine whether to up or lower the ps"
   ]
  },
  {
   "cell_type": "code",
   "execution_count": 8,
   "metadata": {},
   "outputs": [],
   "source": [
    "# check tally, is it -3?\n",
    "\n",
    "# review recent history, m[-2:], to determine go out more/less\n",
    "# if 50/50 choose randomly\n",
    "\n",
    "# determine by how much to update (+/-) ps\n",
    "\n",
    "# plot ps hist over time"
   ]
  },
  {
   "cell_type": "code",
   "execution_count": 9,
   "metadata": {},
   "outputs": [
    {
     "data": {
      "text/plain": [
       "0.5227224038854343"
      ]
     },
     "execution_count": 9,
     "metadata": {},
     "output_type": "execute_result"
    }
   ],
   "source": [
    "np.random.seed(8)\n",
    "patron_p = preferences(N)\n",
    "patron_p[8]"
   ]
  },
  {
   "cell_type": "code",
   "execution_count": 10,
   "metadata": {},
   "outputs": [
    {
     "name": "stdout",
     "output_type": "stream",
     "text": [
      "Sanity check, preferences for ten persons  (pre-run):\n",
      "\n",
      "[0.17883914 0.61976344 0.56232716 0.76342827 0.80666567 0.29869534\n",
      " 0.13847087 0.63543437 0.00840754 0.78860441]\n",
      "\n",
      "Sanity check, preferences for ten persons (post-run):\n",
      "[0.45363968 0.69200839 0.56136785 0.76342827 0.80666567 0.49585112\n",
      " 0.51139845 0.63543437 0.5059887  0.78860441]\n",
      "\n",
      "Last ten 'yes's':\n",
      "[61, 57, 63, 61, 62, 54, 64, 60, 68, 55]\n",
      "\n",
      "Last ten 'no's':\n",
      "[39, 43, 37, 39, 38, 46, 36, 40, 32, 45]\n",
      "\n",
      "Public memory ('shoulda gone out'):\n",
      "[False, True, False, False, False, True, False, True, False, True]\n",
      "\n",
      "Ending score for ten persons:\n",
      "[42. 38. 30. 58. 56. 10. 12. 12.  4. 24.]\n"
     ]
    }
   ],
   "source": [
    "temp_pref = patron_p.copy()\n",
    "\n",
    "yes = []\n",
    "nos = []\n",
    "tally_run = np.zeros(N)\n",
    "m = []  # historical winning strategy\n",
    "pref_08 = []\n",
    "tally08_run = []\n",
    "tally08 = []\n",
    "bar_08 = []\n",
    "m_rate = []\n",
    "\n",
    "print(\"Sanity check, preferences for ten persons  (pre-run):\\n\")\n",
    "print(patron_p[-10:])\n",
    "\n",
    "bar_runs = 1000\n",
    "d = -3  # losing threshold\n",
    "last_m_nights = 4\n",
    "change_rate = .1\n",
    "\n",
    "for i in range(bar_runs):\n",
    "    bar_y, bar_n, tally, going_out = any_given_friday_night(temp_pref)\n",
    "    yes.append(bar_y)\n",
    "    nos.append(bar_n)\n",
    "    tally_run += tally\n",
    "    tally08_run.append(tally[8])\n",
    "    \n",
    "    # historical winning strategy\n",
    "    if bar_y <= 60:\n",
    "        m.append(True)\n",
    "    else:\n",
    "        m.append(False)\n",
    "        \n",
    "    pref_08.append(patron_p[8])\n",
    "    tally08.append(tally_run[8])\n",
    "        \n",
    "    # check tally, is it -3?\n",
    "    # update directionally to recent past\n",
    "    m_recent = np.sum(m[-last_m_nights:])/np.min([last_m_nights, len(m)])\n",
    "    m_rate.append(m_recent)\n",
    "#     print(m_recent)\n",
    "    temp_pref[tally_run <= d] += (temp_pref[tally_run <= d] - m_recent) * -change_rate\n",
    "    tally_run[tally_run <= d] = tally[tally_run <= d] * 0.\n",
    "    \n",
    "    \n",
    "    bar_08.append(going_out[8])\n",
    "        \n",
    "\n",
    "print(\"\\nSanity check, preferences for ten persons (post-run):\")\n",
    "print(temp_pref[-10:])\n",
    "print(\"\\nLast ten 'yes's':\")\n",
    "print(yes[-10:])\n",
    "print(\"\\nLast ten 'no's':\")\n",
    "print(nos[-10:])\n",
    "print(\"\\nPublic memory ('shoulda gone out'):\")\n",
    "print(m[-10:])\n",
    "print(\"\\nEnding score for ten persons:\")\n",
    "print(tally_run[-10:])\n",
    "\n",
    "# stats.describe(tally)"
   ]
  },
  {
   "cell_type": "code",
   "execution_count": 11,
   "metadata": {},
   "outputs": [
    {
     "data": {
      "text/html": [
       "<div>\n",
       "<style scoped>\n",
       "    .dataframe tbody tr th:only-of-type {\n",
       "        vertical-align: middle;\n",
       "    }\n",
       "\n",
       "    .dataframe tbody tr th {\n",
       "        vertical-align: top;\n",
       "    }\n",
       "\n",
       "    .dataframe thead th {\n",
       "        text-align: right;\n",
       "    }\n",
       "</style>\n",
       "<table border=\"1\" class=\"dataframe\">\n",
       "  <thead>\n",
       "    <tr style=\"text-align: right;\">\n",
       "      <th></th>\n",
       "      <th>bar</th>\n",
       "      <th>home</th>\n",
       "      <th>go_out</th>\n",
       "      <th>bar08</th>\n",
       "      <th>ps08</th>\n",
       "      <th>+/-</th>\n",
       "      <th>ty08</th>\n",
       "      <th>m_rate</th>\n",
       "    </tr>\n",
       "  </thead>\n",
       "  <tbody>\n",
       "    <tr>\n",
       "      <th>990</th>\n",
       "      <td>61</td>\n",
       "      <td>39</td>\n",
       "      <td>False</td>\n",
       "      <td>False</td>\n",
       "      <td>0.522722</td>\n",
       "      <td>1.0</td>\n",
       "      <td>1.0</td>\n",
       "      <td>0.25</td>\n",
       "    </tr>\n",
       "    <tr>\n",
       "      <th>991</th>\n",
       "      <td>57</td>\n",
       "      <td>43</td>\n",
       "      <td>True</td>\n",
       "      <td>False</td>\n",
       "      <td>0.522722</td>\n",
       "      <td>-1.0</td>\n",
       "      <td>0.0</td>\n",
       "      <td>0.50</td>\n",
       "    </tr>\n",
       "    <tr>\n",
       "      <th>992</th>\n",
       "      <td>63</td>\n",
       "      <td>37</td>\n",
       "      <td>False</td>\n",
       "      <td>True</td>\n",
       "      <td>0.522722</td>\n",
       "      <td>-1.0</td>\n",
       "      <td>-1.0</td>\n",
       "      <td>0.50</td>\n",
       "    </tr>\n",
       "    <tr>\n",
       "      <th>993</th>\n",
       "      <td>61</td>\n",
       "      <td>39</td>\n",
       "      <td>False</td>\n",
       "      <td>False</td>\n",
       "      <td>0.522722</td>\n",
       "      <td>1.0</td>\n",
       "      <td>0.0</td>\n",
       "      <td>0.25</td>\n",
       "    </tr>\n",
       "    <tr>\n",
       "      <th>994</th>\n",
       "      <td>62</td>\n",
       "      <td>38</td>\n",
       "      <td>False</td>\n",
       "      <td>False</td>\n",
       "      <td>0.522722</td>\n",
       "      <td>1.0</td>\n",
       "      <td>1.0</td>\n",
       "      <td>0.25</td>\n",
       "    </tr>\n",
       "    <tr>\n",
       "      <th>995</th>\n",
       "      <td>54</td>\n",
       "      <td>46</td>\n",
       "      <td>True</td>\n",
       "      <td>False</td>\n",
       "      <td>0.522722</td>\n",
       "      <td>-1.0</td>\n",
       "      <td>0.0</td>\n",
       "      <td>0.25</td>\n",
       "    </tr>\n",
       "    <tr>\n",
       "      <th>996</th>\n",
       "      <td>64</td>\n",
       "      <td>36</td>\n",
       "      <td>False</td>\n",
       "      <td>True</td>\n",
       "      <td>0.522722</td>\n",
       "      <td>-1.0</td>\n",
       "      <td>-1.0</td>\n",
       "      <td>0.25</td>\n",
       "    </tr>\n",
       "    <tr>\n",
       "      <th>997</th>\n",
       "      <td>60</td>\n",
       "      <td>40</td>\n",
       "      <td>True</td>\n",
       "      <td>True</td>\n",
       "      <td>0.522722</td>\n",
       "      <td>1.0</td>\n",
       "      <td>0.0</td>\n",
       "      <td>0.50</td>\n",
       "    </tr>\n",
       "    <tr>\n",
       "      <th>998</th>\n",
       "      <td>68</td>\n",
       "      <td>32</td>\n",
       "      <td>False</td>\n",
       "      <td>True</td>\n",
       "      <td>0.522722</td>\n",
       "      <td>-1.0</td>\n",
       "      <td>-1.0</td>\n",
       "      <td>0.50</td>\n",
       "    </tr>\n",
       "    <tr>\n",
       "      <th>999</th>\n",
       "      <td>55</td>\n",
       "      <td>45</td>\n",
       "      <td>True</td>\n",
       "      <td>False</td>\n",
       "      <td>0.522722</td>\n",
       "      <td>-1.0</td>\n",
       "      <td>-2.0</td>\n",
       "      <td>0.50</td>\n",
       "    </tr>\n",
       "  </tbody>\n",
       "</table>\n",
       "</div>"
      ],
      "text/plain": [
       "     bar  home  go_out  bar08      ps08  +/-  ty08  m_rate\n",
       "990   61    39   False  False  0.522722  1.0   1.0    0.25\n",
       "991   57    43    True  False  0.522722 -1.0   0.0    0.50\n",
       "992   63    37   False   True  0.522722 -1.0  -1.0    0.50\n",
       "993   61    39   False  False  0.522722  1.0   0.0    0.25\n",
       "994   62    38   False  False  0.522722  1.0   1.0    0.25\n",
       "995   54    46    True  False  0.522722 -1.0   0.0    0.25\n",
       "996   64    36   False   True  0.522722 -1.0  -1.0    0.25\n",
       "997   60    40    True   True  0.522722  1.0   0.0    0.50\n",
       "998   68    32   False   True  0.522722 -1.0  -1.0    0.50\n",
       "999   55    45    True  False  0.522722 -1.0  -2.0    0.50"
      ]
     },
     "execution_count": 11,
     "metadata": {},
     "output_type": "execute_result"
    }
   ],
   "source": [
    "# a look at one 'customer' over time\n",
    "# sanity check\n",
    "\n",
    "pd.DataFrame(\n",
    "    {'bar': yes,\n",
    "     'home': nos,\n",
    "     'go_out': m, \n",
    "     'ps08': pref_08,\n",
    "     '+/-': tally08_run,\n",
    "     'ty08': tally08,\n",
    "     'bar08': bar_08,\n",
    "     'm_rate': m_rate\n",
    "    }, columns=['bar', 'home', 'go_out', 'bar08', 'ps08', '+/-', 'ty08', 'm_rate']).tail(10)"
   ]
  },
  {
   "cell_type": "code",
   "execution_count": 12,
   "metadata": {},
   "outputs": [
    {
     "data": {
      "text/plain": [
       "<matplotlib.lines.Line2D at 0x252493caf98>"
      ]
     },
     "execution_count": 12,
     "metadata": {},
     "output_type": "execute_result"
    },
    {
     "data": {
      "image/png": "[encoded data removed]",
      "text/plain": [
       "<Figure size 432x288 with 1 Axes>"
      ]
     },
     "metadata": {},
     "output_type": "display_data"
    },
    {
     "data": {
      "image/png": "[encoded data removed]",
      "text/plain": [
       "<Figure size 1152x576 with 1 Axes>"
      ]
     },
     "metadata": {},
     "output_type": "display_data"
    }
   ],
   "source": [
    "# https://stackoverflow.com/questions/22744577/plotting-basic-uniform-distribution-on-python\n",
    "count, bins, ignored = plt.hist(temp_pref, 25, facecolor='green')\n",
    "\n",
    "# https://matplotlib.org/gallery/lines_bars_and_markers/bar_stacked.html\n",
    "plt.figure(figsize=(16,8))\n",
    "ind = np.arange(bar_runs)\n",
    "p1 = plt.bar(ind, yes)\n",
    "p2 = plt.bar(ind, nos, bottom=yes)\n",
    "plt.axhline(y=60, linewidth=5, color='red')"
   ]
  },
  {
   "cell_type": "markdown",
   "metadata": {},
   "source": [
    "* timeseries: capture runnnig tally for all N (100)"
   ]
  },
  {
   "cell_type": "code",
   "execution_count": 13,
   "metadata": {},
   "outputs": [
    {
     "name": "stdout",
     "output_type": "stream",
     "text": [
      "pre preferences:  [0.87344206 0.96854381 0.86920762 0.53090261 0.23280506 0.01149766\n",
      " 0.43052577 0.40241112 0.5227224  0.47844396]\n",
      "\n",
      "post preferences:  [ 8.73442060e-01  9.68543809e-01  8.69207621e-01 -4.23812220e+12\n",
      " -4.23913459e+13 -5.46196826e+13  5.38725875e-01 -1.15732262e+13\n",
      "  5.22722404e-01 -6.89893697e+12]\n",
      "\n",
      "interquartile (cumulative):  -938.5 140.0 472.0\n",
      "\n",
      "interquartile (final tally):  -0.0 146.5 472.0\n",
      "\n",
      "final tally:\n",
      " [748. 918. 736.  -1.  -2.  -2.  80.  -1.  72.  -1. 298. 195. 512. 470.\n",
      " 246.  -0.  -0. 944.  -0.  -1. 198. 968.  -0. 143.  -2.  75.  42. 790.\n",
      "  -2. 974.  81.  -0. 138. 508. 860.  -2.  90.  -2. 654. 296.  -2.  -0.\n",
      " 628. 245.  -2. 554. 970. 144.  -0.  47. 158. 216. 221. 282. 106.  -0.\n",
      " 478. 898. 876.  -2. 202. 290.  -2.  -1. 251.  -2.  74.  -2.  77. 181.\n",
      " 220. 385.  -1. 149. 638.  99. 412. 123. 690. 448. 690.  -0.  -2.  -1.\n",
      "  48. 210. 604.  70. 884. 450. 122. 177. 152. 494. 610. 103.  -0. 246.\n",
      "  49. 588.]\n"
     ]
    }
   ],
   "source": [
    "# what if they weren't describing the threshold, e.g., -3, as an absolute tally \n",
    "# but rather a short term one, say -3 in last dozen, ten, or five nights out?\n",
    "# or even anytime it tallys -3 regardless window (too extreme?)\n",
    "\n",
    "\n",
    "def going_out_and_evaluate(patron_p, N=len(patron_p), L=int(N*.6), d=-3, m_nights=2, change_rate=.1, bar_runs=1000, \n",
    "                           ind_friday=True,\n",
    "                           re_eval=True, re_eval_binary=False, re_eval_w_contrarian=False):\n",
    "    '''\n",
    "    Parameters:\n",
    "    -----------\n",
    "    \n",
    "    patron_p    : ndarray of patron preferences\n",
    "    N           : number of patrons\n",
    "    L           : max comfort level of venue\n",
    "    d           : losing threshold\n",
    "    m_nights    : number of most recent nights' best policy\n",
    "    bar_runs    : \n",
    "    change_rate : \n",
    "    re_eval     : whether to reset patron preferences\n",
    "    '''\n",
    "    \n",
    "    temp_pref = patron_p\n",
    "    yes = []\n",
    "    nos = []\n",
    "    \n",
    "    # historical winning strategy\n",
    "    m = []\n",
    "    \n",
    "    # historical v contrarian preference\n",
    "    if re_eval_w_contrarian==True:\n",
    "        hist_contra = np.random.randint(2, size=N)\n",
    "        hist_contra += (hist_contra-1)\n",
    "    else:\n",
    "        hist_contra = np.ones(N)\n",
    "    \n",
    "    tally_run = np.zeros(N)\n",
    "    M = bar_runs+1\n",
    "    tally_matrix = np.zeros(N*M).reshape(N, M)\n",
    "\n",
    "    for i in range(bar_runs):\n",
    "        bar_y, bar_n, tally, going_out = any_given_friday_night(temp_pref, ind_friday=ind_friday)\n",
    "        yes.append(bar_y)\n",
    "        nos.append(bar_n)\n",
    "        tally_run += tally\n",
    "        tally_matrix[:, i+1] = tally_matrix[:, i] + tally\n",
    "\n",
    "        # historical winning strategy\n",
    "        if bar_y <= L:\n",
    "            m.append(True)\n",
    "        else:\n",
    "            m.append(False)\n",
    "\n",
    "\n",
    "        if re_eval==True:\n",
    "            \n",
    "            # check tally, update directionally to recent past\n",
    "            m_recent = np.sum(m[-m_nights:])/np.min([m_nights, len(m)])\n",
    "            \n",
    "            if re_eval_binary==True:\n",
    "                # only care if should've gone out more/less & update\n",
    "                discrete_target = (m_recent >= 0.5) * 1.0\n",
    "                temp_pref[tally_run <= d] += (temp_pref[tally_run <= d] - discrete_target) * (-change_rate * hist_contra[tally_run <= d])\n",
    "                tally_run[tally_run <= d] = tally[tally_run <= d] * 0.\n",
    "            else:\n",
    "                # by what ratio should've gone out more/less & update\n",
    "                temp_pref[tally_run <= d] += (temp_pref[tally_run <= d] - m_recent) * (-change_rate * hist_contra[tally_run <= d])\n",
    "                tally_run[tally_run <= d] = tally[tally_run <= d] * 0.\n",
    "\n",
    "    return yes, nos, bar_runs, hist_contra, tally_run, tally_matrix, temp_pref\n",
    "\n",
    "\n",
    "## run function\n",
    "\n",
    "np.random.seed(8)\n",
    "patron_p = preferences(N)\n",
    "print(\"pre preferences: \", patron_p[:10])\n",
    "yes, nos, bar_runs, _, final_tally, bar_matrix, new_pref = going_out_and_evaluate(patron_p, ind_friday=True,\n",
    "                                                                                  re_eval=True, re_eval_binary=True, re_eval_w_contrarian=True)\n",
    "print(\"\\npost preferences: \", new_pref[:10])\n",
    "print(\"\\ninterquartile (cumulative): \", np.percentile(bar_matrix[:,-1], 25), np.percentile(bar_matrix[:,-1], 50), np.percentile(bar_matrix[:,-1], 75))\n",
    "print(\"\\ninterquartile (final tally): \", np.percentile(final_tally, 25), np.percentile(final_tally, 50), np.percentile(final_tally, 75))\n",
    "print(\"\\nfinal tally:\\n\", final_tally)"
   ]
  },
  {
   "cell_type": "code",
   "execution_count": 14,
   "metadata": {},
   "outputs": [
    {
     "data": {
      "image/png": "[encoded data removed]",
      "text/plain": [
       "<Figure size 1296x576 with 4 Axes>"
      ]
     },
     "metadata": {},
     "output_type": "display_data"
    }
   ],
   "source": [
    "## plots\n",
    "\n",
    "f, ((ax1, ax2), (ax3, ax4)) = plt.subplots(2, 2, figsize=(18, 8))\n",
    "\n",
    "ax1.hist(patron_p, 25, facecolor='green')\n",
    "ax1.set_title(\"Final 'Going Out' Preferences\")\n",
    "\n",
    "\n",
    "# https://matplotlib.org/gallery/lines_bars_and_markers/bar_stacked.html\n",
    "ind = np.arange(bar_runs)\n",
    "p1 = ax2.bar(ind, yes)\n",
    "p2 = ax2.bar(ind, nos, bottom=yes)\n",
    "ax2.axhline(y=60, linewidth=5, color='red')\n",
    "ax2.set_title(\"Simulated Nights Out\")\n",
    "\n",
    "for row in range(bar_matrix.shape[0]):\n",
    "    ax3.plot(bar_matrix[row])\n",
    "ax3.set_title(\"Cumulative Benefit\")\n",
    "\n",
    "ax4.scatter(new_pref, bar_matrix[:,-1])\n",
    "ax4.set_xlim(0.,1.)\n",
    "ax4.axhline(y=np.percentile(bar_matrix[:,-1], 25), linewidth=2, color='green', ls='--')\n",
    "ax4.axhline(y=np.percentile(bar_matrix[:,-1], 75), linewidth=2, color='green', ls='--')\n",
    "ax4.set_title(\"Final Pref x Cumulative Scores\")\n",
    "    \n",
    "plt.tight_layout()"
   ]
  },
  {
   "cell_type": "code",
   "execution_count": 15,
   "metadata": {},
   "outputs": [
    {
     "name": "stderr",
     "output_type": "stream",
     "text": [
      "C:\\Users\\rstancut\\AppData\\Local\\Continuum\\anaconda3\\lib\\site-packages\\ipykernel_launcher.py:63: RuntimeWarning: overflow encountered in add\n",
      "C:\\Users\\rstancut\\AppData\\Local\\Continuum\\anaconda3\\lib\\site-packages\\ipykernel_launcher.py:63: RuntimeWarning: invalid value encountered in add\n",
      "C:\\Users\\rstancut\\AppData\\Local\\Continuum\\anaconda3\\lib\\site-packages\\ipykernel_launcher.py:10: RuntimeWarning: invalid value encountered in less_equal\n",
      "  # Remove the CWD from sys.path while we load stuff.\n",
      "C:\\Users\\rstancut\\AppData\\Local\\Continuum\\anaconda3\\lib\\site-packages\\ipykernel_launcher.py:67: RuntimeWarning: overflow encountered in add\n",
      "C:\\Users\\rstancut\\AppData\\Local\\Continuum\\anaconda3\\lib\\site-packages\\ipykernel_launcher.py:67: RuntimeWarning: invalid value encountered in add\n"
     ]
    },
    {
     "data": {
      "text/html": [
       "<div>\n",
       "<style scoped>\n",
       "    .dataframe tbody tr th:only-of-type {\n",
       "        vertical-align: middle;\n",
       "    }\n",
       "\n",
       "    .dataframe tbody tr th {\n",
       "        vertical-align: top;\n",
       "    }\n",
       "\n",
       "    .dataframe thead th {\n",
       "        text-align: right;\n",
       "    }\n",
       "</style>\n",
       "<table border=\"1\" class=\"dataframe\">\n",
       "  <thead>\n",
       "    <tr style=\"text-align: right;\">\n",
       "      <th></th>\n",
       "      <th>d_threshold</th>\n",
       "      <th>m_nights</th>\n",
       "      <th>change_rate</th>\n",
       "      <th>binary_eval</th>\n",
       "      <th>incl_contra</th>\n",
       "      <th>setting_run</th>\n",
       "      <th>median_tally</th>\n",
       "      <th>mean_tally</th>\n",
       "      <th>mean_cuml</th>\n",
       "    </tr>\n",
       "  </thead>\n",
       "  <tbody>\n",
       "    <tr>\n",
       "      <th>0</th>\n",
       "      <td>-3</td>\n",
       "      <td>10</td>\n",
       "      <td>0.9</td>\n",
       "      <td>True</td>\n",
       "      <td>True</td>\n",
       "      <td>0</td>\n",
       "      <td>80.0</td>\n",
       "      <td>98.22</td>\n",
       "      <td>79.20</td>\n",
       "    </tr>\n",
       "    <tr>\n",
       "      <th>1</th>\n",
       "      <td>-3</td>\n",
       "      <td>10</td>\n",
       "      <td>0.9</td>\n",
       "      <td>True</td>\n",
       "      <td>True</td>\n",
       "      <td>1</td>\n",
       "      <td>285.0</td>\n",
       "      <td>257.27</td>\n",
       "      <td>245.36</td>\n",
       "    </tr>\n",
       "    <tr>\n",
       "      <th>2</th>\n",
       "      <td>-3</td>\n",
       "      <td>10</td>\n",
       "      <td>0.9</td>\n",
       "      <td>True</td>\n",
       "      <td>False</td>\n",
       "      <td>0</td>\n",
       "      <td>274.0</td>\n",
       "      <td>316.18</td>\n",
       "      <td>316.12</td>\n",
       "    </tr>\n",
       "    <tr>\n",
       "      <th>3</th>\n",
       "      <td>-3</td>\n",
       "      <td>10</td>\n",
       "      <td>0.9</td>\n",
       "      <td>True</td>\n",
       "      <td>False</td>\n",
       "      <td>1</td>\n",
       "      <td>360.0</td>\n",
       "      <td>303.69</td>\n",
       "      <td>302.10</td>\n",
       "    </tr>\n",
       "    <tr>\n",
       "      <th>4</th>\n",
       "      <td>-3</td>\n",
       "      <td>10</td>\n",
       "      <td>0.9</td>\n",
       "      <td>False</td>\n",
       "      <td>True</td>\n",
       "      <td>0</td>\n",
       "      <td>300.0</td>\n",
       "      <td>311.06</td>\n",
       "      <td>310.82</td>\n",
       "    </tr>\n",
       "  </tbody>\n",
       "</table>\n",
       "</div>"
      ],
      "text/plain": [
       "   d_threshold  m_nights  change_rate  binary_eval  incl_contra  setting_run  \\\n",
       "0           -3        10          0.9         True         True            0   \n",
       "1           -3        10          0.9         True         True            1   \n",
       "2           -3        10          0.9         True        False            0   \n",
       "3           -3        10          0.9         True        False            1   \n",
       "4           -3        10          0.9        False         True            0   \n",
       "\n",
       "   median_tally  mean_tally  mean_cuml  \n",
       "0          80.0       98.22      79.20  \n",
       "1         285.0      257.27     245.36  \n",
       "2         274.0      316.18     316.12  \n",
       "3         360.0      303.69     302.10  \n",
       "4         300.0      311.06     310.82  "
      ]
     },
     "execution_count": 15,
     "metadata": {},
     "output_type": "execute_result"
    }
   ],
   "source": [
    "# ds = [-10, -5, -3, -2, -1]\n",
    "# ms = [10, 5, 3, 2, 1]\n",
    "# cr = [.9, .75, .5, .2, .1]\n",
    "\n",
    "ds = [-3, -2, -1]\n",
    "ms = [10, 5, 3]\n",
    "cr = [.9, .5, .2]\n",
    "bn = [True, False]\n",
    "ct = [True, False]\n",
    "\n",
    "param_stats = []\n",
    "\n",
    "\n",
    "for i in range(len(ds)):\n",
    "    for j in range(len(ms)):\n",
    "        for k in range(len(cr)):\n",
    "            for l in range(len(bn)):\n",
    "                for m in range(len(ct)):\n",
    "                    for n in range(2):\n",
    "\n",
    "                        temp_dict = {}\n",
    "                        temp_dict['d_threshold'] = ds[i]\n",
    "                        temp_dict['m_nights'] = ms[j]\n",
    "                        temp_dict['change_rate'] = cr[k]\n",
    "                        temp_dict['binary_eval'] = bn[l]\n",
    "                        temp_dict['incl_contra'] = ct[m]\n",
    "                        temp_dict['setting_run'] = n\n",
    "\n",
    "                        yes, nos, bar_runs, _, final_tally, bar_matrix, new_pref = going_out_and_evaluate(patron_p, d=ds[i], m_nights=ms[j], \n",
    "                                                                                                       change_rate=cr[k], re_eval_binary=bn[l], \n",
    "                                                                                                       re_eval_w_contrarian=ct[m])\n",
    "\n",
    "    #                         mean, minmax = stats.bayes_mvs(bar_matrix[:,-1], .95)[0]\n",
    "    #                         temp_dict['min_ci_95'] = minmax[0]\n",
    "    #                         temp_dict['max_ci_95'] = minmax[1]\n",
    "\n",
    "                        temp_dict['median_tally'] = np.median(final_tally)\n",
    "                        temp_dict['mean_tally'] = np.mean(final_tally)\n",
    "                        temp_dict['mean_cuml'] = np.mean(bar_matrix[:,-1])\n",
    "\n",
    "                        param_stats.append(temp_dict)\n",
    "\n",
    "\n",
    "df_param_stats = pd.DataFrame(param_stats)\n",
    "df_param_stats = df_param_stats[['d_threshold', 'm_nights', 'change_rate', \n",
    "                                 'binary_eval', 'incl_contra', 'setting_run', \n",
    "                                 'median_tally', 'mean_tally', 'mean_cuml']]\n",
    "df_param_stats.head()"
   ]
  },
  {
   "cell_type": "code",
   "execution_count": 16,
   "metadata": {},
   "outputs": [],
   "source": [
    "# df_param_stats.to_excel(\"param_stats.xlsx\")"
   ]
  },
  {
   "cell_type": "code",
   "execution_count": 19,
   "metadata": {},
   "outputs": [
    {
     "name": "stderr",
     "output_type": "stream",
     "text": [
      "C:\\Users\\rstancut\\AppData\\Local\\Continuum\\anaconda3\\lib\\site-packages\\ipykernel_launcher.py:10: RuntimeWarning: invalid value encountered in less_equal\n",
      "  # Remove the CWD from sys.path while we load stuff.\n"
     ]
    },
    {
     "data": {
      "text/html": [
       "<div>\n",
       "<style scoped>\n",
       "    .dataframe tbody tr th:only-of-type {\n",
       "        vertical-align: middle;\n",
       "    }\n",
       "\n",
       "    .dataframe tbody tr th {\n",
       "        vertical-align: top;\n",
       "    }\n",
       "\n",
       "    .dataframe thead th {\n",
       "        text-align: right;\n",
       "    }\n",
       "</style>\n",
       "<table border=\"1\" class=\"dataframe\">\n",
       "  <thead>\n",
       "    <tr style=\"text-align: right;\">\n",
       "      <th></th>\n",
       "      <th>d_threshold</th>\n",
       "      <th>m_nights</th>\n",
       "      <th>change_rate</th>\n",
       "      <th>binary_eval</th>\n",
       "      <th>incl_contra</th>\n",
       "      <th>setting_run</th>\n",
       "      <th>mean_cuml</th>\n",
       "      <th>hist_cnt</th>\n",
       "      <th>mean_cuml_hist</th>\n",
       "      <th>contr_cnt</th>\n",
       "      <th>mean_cuml_contr</th>\n",
       "    </tr>\n",
       "  </thead>\n",
       "  <tbody>\n",
       "    <tr>\n",
       "      <th>0</th>\n",
       "      <td>-3</td>\n",
       "      <td>10</td>\n",
       "      <td>0.9</td>\n",
       "      <td>True</td>\n",
       "      <td>True</td>\n",
       "      <td>0</td>\n",
       "      <td>103.14</td>\n",
       "      <td>46</td>\n",
       "      <td>-101.695652</td>\n",
       "      <td>54</td>\n",
       "      <td>277.629630</td>\n",
       "    </tr>\n",
       "    <tr>\n",
       "      <th>1</th>\n",
       "      <td>-3</td>\n",
       "      <td>10</td>\n",
       "      <td>0.9</td>\n",
       "      <td>True</td>\n",
       "      <td>True</td>\n",
       "      <td>1</td>\n",
       "      <td>102.66</td>\n",
       "      <td>53</td>\n",
       "      <td>75.396226</td>\n",
       "      <td>47</td>\n",
       "      <td>133.404255</td>\n",
       "    </tr>\n",
       "    <tr>\n",
       "      <th>2</th>\n",
       "      <td>-3</td>\n",
       "      <td>10</td>\n",
       "      <td>0.9</td>\n",
       "      <td>True</td>\n",
       "      <td>True</td>\n",
       "      <td>2</td>\n",
       "      <td>103.66</td>\n",
       "      <td>48</td>\n",
       "      <td>107.750000</td>\n",
       "      <td>52</td>\n",
       "      <td>99.884615</td>\n",
       "    </tr>\n",
       "    <tr>\n",
       "      <th>3</th>\n",
       "      <td>-3</td>\n",
       "      <td>10</td>\n",
       "      <td>0.9</td>\n",
       "      <td>True</td>\n",
       "      <td>True</td>\n",
       "      <td>3</td>\n",
       "      <td>103.34</td>\n",
       "      <td>52</td>\n",
       "      <td>24.269231</td>\n",
       "      <td>48</td>\n",
       "      <td>189.000000</td>\n",
       "    </tr>\n",
       "    <tr>\n",
       "      <th>4</th>\n",
       "      <td>-3</td>\n",
       "      <td>10</td>\n",
       "      <td>0.9</td>\n",
       "      <td>True</td>\n",
       "      <td>True</td>\n",
       "      <td>4</td>\n",
       "      <td>104.40</td>\n",
       "      <td>55</td>\n",
       "      <td>73.381818</td>\n",
       "      <td>45</td>\n",
       "      <td>142.311111</td>\n",
       "    </tr>\n",
       "  </tbody>\n",
       "</table>\n",
       "</div>"
      ],
      "text/plain": [
       "   d_threshold  m_nights  change_rate  binary_eval  incl_contra  setting_run  \\\n",
       "0           -3        10          0.9         True         True            0   \n",
       "1           -3        10          0.9         True         True            1   \n",
       "2           -3        10          0.9         True         True            2   \n",
       "3           -3        10          0.9         True         True            3   \n",
       "4           -3        10          0.9         True         True            4   \n",
       "\n",
       "   mean_cuml  hist_cnt  mean_cuml_hist  contr_cnt  mean_cuml_contr  \n",
       "0     103.14        46     -101.695652         54       277.629630  \n",
       "1     102.66        53       75.396226         47       133.404255  \n",
       "2     103.66        48      107.750000         52        99.884615  \n",
       "3     103.34        52       24.269231         48       189.000000  \n",
       "4     104.40        55       73.381818         45       142.311111  "
      ]
     },
     "execution_count": 19,
     "metadata": {},
     "output_type": "execute_result"
    }
   ],
   "source": [
    "# just the high performing settings\n",
    "\n",
    "ds = [-3, -2]\n",
    "ms = [10, 5, 3]\n",
    "cr = [.9, .5, .2]\n",
    "bn = [True, False]\n",
    "ct = [True]\n",
    "\n",
    "param_stats = []\n",
    "\n",
    "\n",
    "for i in range(len(ds)):\n",
    "    for j in range(len(ms)):\n",
    "        for k in range(len(cr)):\n",
    "            for l in range(len(bn)):\n",
    "                for m in range(len(ct)):\n",
    "                    for n in range(5):    # set to 5 for example purpose only, actual run at 100\n",
    "\n",
    "                        temp_dict = {}\n",
    "                        temp_dict['d_threshold'] = ds[i]\n",
    "                        temp_dict['m_nights'] = ms[j]\n",
    "                        temp_dict['change_rate'] = cr[k]\n",
    "                        temp_dict['binary_eval'] = bn[l]\n",
    "                        temp_dict['incl_contra'] = ct[m]\n",
    "                        temp_dict['setting_run'] = n\n",
    "\n",
    "                        yes, nos, bar_runs, hist_contra, final_tally, bar_matrix, new_pref = going_out_and_evaluate(patron_p, d=ds[i], m_nights=ms[j], \n",
    "                                                                                                       change_rate=cr[k], re_eval_binary=bn[l], \n",
    "                                                                                                       re_eval_w_contrarian=ct[m])\n",
    "\n",
    "    #                         mean, minmax = stats.bayes_mvs(bar_matrix[:,-1], .95)[0]\n",
    "    #                         temp_dict['min_ci_95'] = minmax[0]\n",
    "    #                         temp_dict['max_ci_95'] = minmax[1]\n",
    "\n",
    "#                         temp_dict['median_tally'] = np.median(final_tally)\n",
    "#                         temp_dict['mean_tally'] = np.mean(final_tally)\n",
    "                        temp_dict['mean_cuml'] = np.mean(bar_matrix[:,-1])\n",
    "                        temp_dict['hist_cnt'] = np.sum([hist_contra==1])\n",
    "                        temp_dict['mean_cuml_hist'] = np.mean(bar_matrix[:,-1][hist_contra==1])\n",
    "                        temp_dict['contr_cnt'] = np.sum([hist_contra==-1])\n",
    "                        temp_dict['mean_cuml_contr'] = np.mean(bar_matrix[:,-1][hist_contra==-1])\n",
    "\n",
    "                        param_stats.append(temp_dict)\n",
    "\n",
    "\n",
    "df_param_stats = pd.DataFrame(param_stats)\n",
    "df_param_stats = df_param_stats[['d_threshold', 'm_nights', 'change_rate', \n",
    "                                 'binary_eval', 'incl_contra', 'setting_run', \n",
    "                                 'mean_cuml', 'hist_cnt', 'mean_cuml_hist', 'contr_cnt', 'mean_cuml_contr']]\n",
    "df_param_stats.head()"
   ]
  },
  {
   "cell_type": "code",
   "execution_count": 20,
   "metadata": {},
   "outputs": [],
   "source": [
    "# df_param_stats.to_excel(\"param_stats_high_perf.xlsx\")"
   ]
  },
  {
   "cell_type": "markdown",
   "metadata": {},
   "source": [
    "## random notes below"
   ]
  },
  {
   "cell_type": "code",
   "execution_count": 21,
   "metadata": {},
   "outputs": [
    {
     "data": {
      "text/plain": [
       "Text(0,0.5,'settings')"
      ]
     },
     "execution_count": 21,
     "metadata": {},
     "output_type": "execute_result"
    },
    {
     "data": {
      "image/png": "[encoded data removed]",
      "text/plain": [
       "<Figure size 432x288 with 1 Axes>"
      ]
     },
     "metadata": {},
     "output_type": "display_data"
    }
   ],
   "source": [
    "# y = np.arange(df_param_stats.shape[0])\n",
    "x = df_param_stats.mean_cuml\n",
    "y = np.arange(df_param_stats.shape[0])\n",
    "plt.plot(x, y, 'o')\n",
    "# plt.plot(*z, '-')\n",
    "plt.xlabel(\"simulation mean\")\n",
    "plt.ylabel(\"settings\")"
   ]
  },
  {
   "cell_type": "code",
   "execution_count": 22,
   "metadata": {},
   "outputs": [],
   "source": [
    "# use decision tree to identify parameters/thresholds to get high score (25+)\n",
    "    # i.e., change_rate == 0.2, m_nights == 10, etc.\n",
    "\n",
    "# dot plot with ci lines for settings\n",
    "    # or: https://seaborn.pydata.org/generated/seaborn.violinplot.html\n",
    "\n",
    "# also, CLT: run above N times and grab mean"
   ]
  },
  {
   "cell_type": "code",
   "execution_count": 23,
   "metadata": {},
   "outputs": [
    {
     "data": {
      "text/plain": [
       "<matplotlib.collections.PathCollection at 0x2524cf20cf8>"
      ]
     },
     "execution_count": 23,
     "metadata": {},
     "output_type": "execute_result"
    },
    {
     "data": {
      "image/png": "[encoded data removed]",
      "text/plain": [
       "<Figure size 432x288 with 1 Axes>"
      ]
     },
     "metadata": {},
     "output_type": "display_data"
    }
   ],
   "source": [
    "#, new_pref\n",
    "plt.scatter(new_pref, bar_matrix[:,-1])"
   ]
  },
  {
   "cell_type": "code",
   "execution_count": 24,
   "metadata": {},
   "outputs": [
    {
     "data": {
      "text/plain": [
       "(array([44.,  0.,  0.,  0.,  0.,  0.,  0.,  0.,  0., 56.]),\n",
       " array([-1000.,  -800.,  -600.,  -400.,  -200.,     0.,   200.,   400.,\n",
       "          600.,   800.,  1000.]),\n",
       " <a list of 10 Patch objects>)"
      ]
     },
     "execution_count": 24,
     "metadata": {},
     "output_type": "execute_result"
    },
    {
     "data": {
      "image/png": "[encoded data removed]",
      "text/plain": [
       "<Figure size 432x288 with 1 Axes>"
      ]
     },
     "metadata": {},
     "output_type": "display_data"
    }
   ],
   "source": [
    "plt.hist(bar_matrix[:,-1])"
   ]
  },
  {
   "cell_type": "code",
   "execution_count": null,
   "metadata": {},
   "outputs": [],
   "source": []
  },
  {
   "cell_type": "code",
   "execution_count": null,
   "metadata": {},
   "outputs": [],
   "source": []
  }
 ],
 "metadata": {
  "kernelspec": {
   "display_name": "Python 3",
   "language": "python",
   "name": "python3"
  },
  "language_info": {
   "codemirror_mode": {
    "name": "ipython",
    "version": 3
   },
   "file_extension": ".py",
   "mimetype": "text/x-python",
   "name": "python",
   "nbconvert_exporter": "python",
   "pygments_lexer": "ipython3",
   "version": "3.6.4"
  }
 },
 "nbformat": 4,
 "nbformat_minor": 2
}
