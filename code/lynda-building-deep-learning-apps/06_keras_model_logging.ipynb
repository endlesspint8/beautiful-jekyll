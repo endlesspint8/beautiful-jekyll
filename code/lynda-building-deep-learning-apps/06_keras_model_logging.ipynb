{
 "cells": [
  {
   "cell_type": "code",
   "execution_count": 1,
   "metadata": {},
   "outputs": [
    {
     "name": "stderr",
     "output_type": "stream",
     "text": [
      "C:\\Users\\rstancut\\AppData\\Local\\Continuum\\anaconda2\\envs\\keras\\lib\\site-packages\\h5py\\__init__.py:36: FutureWarning: Conversion of the second argument of issubdtype from `float` to `np.floating` is deprecated. In future, it will be treated as `np.float64 == np.dtype(float).type`.\n",
      "  from ._conv import register_converters as _register_converters\n",
      "Using TensorFlow backend.\n"
     ]
    }
   ],
   "source": [
    "import pandas as pd\n",
    "import keras\n",
    "from keras.models import Sequential\n",
    "from keras.layers import *"
   ]
  },
  {
   "cell_type": "code",
   "execution_count": 2,
   "metadata": {},
   "outputs": [],
   "source": [
    "training_data_df = pd.read_csv(\"Exercise Files/06/sales_data_training_scaled.csv\")\n",
    "\n",
    "X = training_data_df.drop('total_earnings', axis=1).values\n",
    "Y = training_data_df[['total_earnings']].values\n",
    "\n",
    "# Define the model\n",
    "model = Sequential()\n",
    "model.add(Dense(50, input_dim=9, activation='relu', name='layer_1'))\n",
    "model.add(Dense(100, activation='relu', name='layer_2'))\n",
    "model.add(Dense(50, activation='relu', name='layer_3'))\n",
    "model.add(Dense(1, activation='linear', name='output_layer'))\n",
    "model.compile(loss='mean_squared_error', optimizer='adam')"
   ]
  },
  {
   "cell_type": "code",
   "execution_count": 4,
   "metadata": {
    "scrolled": true
   },
   "outputs": [
    {
     "name": "stdout",
     "output_type": "stream",
     "text": [
      "Epoch 1/50\n",
      " - 0s - loss: 0.0028\n",
      "Epoch 2/50\n",
      " - 0s - loss: 6.5589e-04\n",
      "Epoch 3/50\n",
      " - 0s - loss: 3.2713e-04\n",
      "Epoch 4/50\n",
      " - 0s - loss: 2.3221e-04\n",
      "Epoch 5/50\n",
      " - 0s - loss: 1.5871e-04\n",
      "Epoch 6/50\n",
      " - 0s - loss: 1.2781e-04\n",
      "Epoch 7/50\n",
      " - 0s - loss: 1.1543e-04\n",
      "Epoch 8/50\n",
      " - 0s - loss: 9.5294e-05\n",
      "Epoch 9/50\n",
      " - 0s - loss: 7.5911e-05\n",
      "Epoch 10/50\n",
      " - 0s - loss: 6.6415e-05\n",
      "Epoch 11/50\n",
      " - 0s - loss: 6.5555e-05\n",
      "Epoch 12/50\n",
      " - 0s - loss: 5.2470e-05\n",
      "Epoch 13/50\n",
      " - 0s - loss: 4.8363e-05\n",
      "Epoch 14/50\n",
      " - 0s - loss: 4.1335e-05\n",
      "Epoch 15/50\n",
      " - 0s - loss: 3.6980e-05\n",
      "Epoch 16/50\n",
      " - 0s - loss: 3.7616e-05\n",
      "Epoch 17/50\n",
      " - 0s - loss: 4.1244e-05\n",
      "Epoch 18/50\n",
      " - 0s - loss: 3.7625e-05\n",
      "Epoch 19/50\n",
      " - 0s - loss: 4.5871e-05\n",
      "Epoch 20/50\n",
      " - 0s - loss: 3.2658e-05\n",
      "Epoch 21/50\n",
      " - 0s - loss: 3.4363e-05\n",
      "Epoch 22/50\n",
      " - 0s - loss: 3.4616e-05\n",
      "Epoch 23/50\n",
      " - 0s - loss: 2.4335e-05\n",
      "Epoch 24/50\n",
      " - 0s - loss: 2.1786e-05\n",
      "Epoch 25/50\n",
      " - 0s - loss: 2.2514e-05\n",
      "Epoch 26/50\n",
      " - 0s - loss: 2.4651e-05\n",
      "Epoch 27/50\n",
      " - 0s - loss: 2.4990e-05\n",
      "Epoch 28/50\n",
      " - 0s - loss: 2.0687e-05\n",
      "Epoch 29/50\n",
      " - 0s - loss: 2.2054e-05\n",
      "Epoch 30/50\n",
      " - 0s - loss: 1.9816e-05\n",
      "Epoch 31/50\n",
      " - 0s - loss: 1.9106e-05\n",
      "Epoch 32/50\n",
      " - 0s - loss: 1.9186e-05\n",
      "Epoch 33/50\n",
      " - 0s - loss: 1.9424e-05\n",
      "Epoch 34/50\n",
      " - 0s - loss: 2.0040e-05\n",
      "Epoch 35/50\n",
      " - 0s - loss: 3.0287e-05\n",
      "Epoch 36/50\n",
      " - 0s - loss: 2.0204e-05\n",
      "Epoch 37/50\n",
      " - 0s - loss: 2.0453e-05\n",
      "Epoch 38/50\n",
      " - 0s - loss: 1.9729e-05\n",
      "Epoch 39/50\n",
      " - 0s - loss: 1.6226e-05\n",
      "Epoch 40/50\n",
      " - 0s - loss: 1.8246e-05\n",
      "Epoch 41/50\n",
      " - 0s - loss: 1.8256e-05\n",
      "Epoch 42/50\n",
      " - 0s - loss: 2.4322e-05\n",
      "Epoch 43/50\n",
      " - 0s - loss: 2.0360e-05\n",
      "Epoch 44/50\n",
      " - 0s - loss: 1.9182e-05\n",
      "Epoch 45/50\n",
      " - 0s - loss: 2.2065e-05\n",
      "Epoch 46/50\n",
      " - 0s - loss: 1.9467e-05\n",
      "Epoch 47/50\n",
      " - 0s - loss: 2.0424e-05\n",
      "Epoch 48/50\n",
      " - 0s - loss: 2.7942e-05\n",
      "Epoch 49/50\n",
      " - 0s - loss: 4.0867e-05\n",
      "Epoch 50/50\n",
      " - 0s - loss: 2.4847e-05\n"
     ]
    },
    {
     "data": {
      "text/plain": [
       "<keras.callbacks.History at 0x222d2b23c50>"
      ]
     },
     "execution_count": 4,
     "metadata": {},
     "output_type": "execute_result"
    }
   ],
   "source": [
    "# Create a TensorBoard logger\n",
    "logger = keras.callbacks.TensorBoard(\n",
    "    log_dir='Exercise Files/06/logs',\n",
    "    write_graph=True, \n",
    "#     histogram_freq=5\n",
    ")\n",
    "\n",
    "# Train the model\n",
    "model.fit(\n",
    "    X,\n",
    "    Y,\n",
    "    epochs=50,\n",
    "    shuffle=True,\n",
    "    verbose=2,\n",
    "    callbacks=[logger]\n",
    ")"
   ]
  },
  {
   "cell_type": "code",
   "execution_count": 5,
   "metadata": {},
   "outputs": [
    {
     "name": "stdout",
     "output_type": "stream",
     "text": [
      "The mean squared error (MSE) for the test data set is: 4.612808406818658e-05\n"
     ]
    }
   ],
   "source": [
    "# Load the separate test data set\n",
    "test_data_df = pd.read_csv(\"Exercise Files/06/sales_data_test_scaled.csv\")\n",
    "\n",
    "X_test = test_data_df.drop('total_earnings', axis=1).values\n",
    "Y_test = test_data_df[['total_earnings']].values\n",
    "\n",
    "test_error_rate = model.evaluate(X_test, Y_test, verbose=0)\n",
    "print(\"The mean squared error (MSE) for the test data set is: {}\".format(test_error_rate))"
   ]
  },
  {
   "cell_type": "code",
   "execution_count": null,
   "metadata": {
    "collapsed": true
   },
   "outputs": [],
   "source": []
  }
 ],
 "metadata": {
  "kernelspec": {
   "display_name": "Python [conda env:keras]",
   "language": "python",
   "name": "conda-env-keras-py"
  },
  "language_info": {
   "codemirror_mode": {
    "name": "ipython",
    "version": 3
   },
   "file_extension": ".py",
   "mimetype": "text/x-python",
   "name": "python",
   "nbconvert_exporter": "python",
   "pygments_lexer": "ipython3",
   "version": "3.5.4"
  }
 },
 "nbformat": 4,
 "nbformat_minor": 2
}
