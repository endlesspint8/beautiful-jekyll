{
 "cells": [
  {
   "cell_type": "markdown",
   "metadata": {},
   "source": [
    "# Building Deep Learning Applications with Keras 2.0\n",
    "\n",
    "source: [Lynda.com](https://www.lynda.com/Google-TensorFlow-tutorials/Building-Deep-Learning-Applications-Keras-2-0/601801-2.html)\n",
    "\n",
    "## preprocess data"
   ]
  },
  {
   "cell_type": "code",
   "execution_count": 1,
   "metadata": {
    "collapsed": true
   },
   "outputs": [],
   "source": [
    "import pandas as pd\n",
    "from sklearn.preprocessing import MinMaxScaler"
   ]
  },
  {
   "cell_type": "code",
   "execution_count": 2,
   "metadata": {
    "collapsed": true
   },
   "outputs": [],
   "source": [
    "training_data_df = pd.read_csv(\"Exercise Files/03/sales_data_training.csv\")\n",
    "\n",
    "test_data_df = pd.read_csv(\"Exercise Files/03/sales_data_test.csv\")"
   ]
  },
  {
   "cell_type": "code",
   "execution_count": 3,
   "metadata": {
    "collapsed": true
   },
   "outputs": [],
   "source": [
    "scaler = MinMaxScaler(feature_range=(0,1))"
   ]
  },
  {
   "cell_type": "code",
   "execution_count": 4,
   "metadata": {
    "collapsed": true
   },
   "outputs": [],
   "source": [
    "scaled_training = scaler.fit_transform(training_data_df)\n",
    "scaled_testing = scaler.transform(test_data_df)"
   ]
  },
  {
   "cell_type": "code",
   "execution_count": 5,
   "metadata": {},
   "outputs": [
    {
     "name": "stdout",
     "output_type": "stream",
     "text": [
      "Note: total_earnings values were scaled by multiplying by 0.0000036968 and adding -0.115913\n"
     ]
    }
   ],
   "source": [
    "# Print out the adjustment that the scaler applied to the total_earnings column of data\n",
    "print(\"Note: total_earnings values were scaled by multiplying by {:.10f} and adding {:.6f}\".format(scaler.scale_[8], scaler.min_[8]))\n"
   ]
  },
  {
   "cell_type": "code",
   "execution_count": 6,
   "metadata": {
    "collapsed": true
   },
   "outputs": [],
   "source": [
    "# Create new pandas DataFrame objects from the scaled data\n",
    "scaled_training_df = pd.DataFrame(scaled_training, columns=training_data_df.columns.values)\n",
    "scaled_testing_df = pd.DataFrame(scaled_testing, columns=test_data_df.columns.values)\n",
    "\n",
    "# Save scaled data dataframes to new CSV files\n",
    "# scaled_training_df.to_csv(\"03/sales_data_training_scaled.csv\", index=False)\n",
    "# scaled_testing_df.to_csv(\"03/sales_data_test_scaled.csv\", index=False)"
   ]
  },
  {
   "cell_type": "markdown",
   "metadata": {},
   "source": [
    "## create model"
   ]
  },
  {
   "cell_type": "code",
   "execution_count": 7,
   "metadata": {},
   "outputs": [
    {
     "name": "stderr",
     "output_type": "stream",
     "text": [
      "C:\\Users\\rstancut\\AppData\\Local\\Continuum\\anaconda2\\envs\\py35_b\\lib\\site-packages\\h5py\\__init__.py:36: FutureWarning: Conversion of the second argument of issubdtype from `float` to `np.floating` is deprecated. In future, it will be treated as `np.float64 == np.dtype(float).type`.\n",
      "  from ._conv import register_converters as _register_converters\n",
      "Using TensorFlow backend.\n"
     ]
    },
    {
     "name": "stdout",
     "output_type": "stream",
     "text": [
      "tensorflow\n"
     ]
    }
   ],
   "source": [
    "from keras import backend as K\n",
    "print(K.backend())"
   ]
  },
  {
   "cell_type": "code",
   "execution_count": 8,
   "metadata": {
    "collapsed": true
   },
   "outputs": [],
   "source": [
    "from keras.models import Sequential\n",
    "from keras.layers import *"
   ]
  },
  {
   "cell_type": "code",
   "execution_count": 9,
   "metadata": {
    "collapsed": true
   },
   "outputs": [],
   "source": [
    "# training_data_df = pd.read_csv(\"sales_data_training_scaled.csv\")\n",
    "training_data_df = scaled_training_df.copy()\n",
    "\n",
    "X = training_data_df.drop('total_earnings', axis=1).values\n",
    "Y = training_data_df[['total_earnings']].values\n",
    "\n",
    "# Define the model\n",
    "model = Sequential()\n",
    "model.add(Dense(50, input_dim=9, activation='relu'))\n",
    "model.add(Dense(100, activation='relu'))\n",
    "model.add(Dense(50, activation='relu'))\n",
    "model.add(Dense(1, activation='linear'))\n",
    "model.compile(loss=\"mean_squared_error\", optimizer=\"adam\")"
   ]
  },
  {
   "cell_type": "markdown",
   "metadata": {
    "collapsed": true
   },
   "source": [
    "## train model"
   ]
  },
  {
   "cell_type": "code",
   "execution_count": 10,
   "metadata": {
    "scrolled": true
   },
   "outputs": [
    {
     "name": "stdout",
     "output_type": "stream",
     "text": [
      "Epoch 1/50\n",
      " - 0s - loss: 0.0157\n",
      "Epoch 2/50\n",
      " - 0s - loss: 0.0011\n",
      "Epoch 3/50\n",
      " - 0s - loss: 4.9348e-04\n",
      "Epoch 4/50\n",
      " - 0s - loss: 3.2267e-04\n",
      "Epoch 5/50\n",
      " - 0s - loss: 2.2482e-04\n",
      "Epoch 6/50\n",
      " - 0s - loss: 1.5807e-04\n",
      "Epoch 7/50\n",
      " - 0s - loss: 1.4252e-04\n",
      "Epoch 8/50\n",
      " - 0s - loss: 1.0628e-04\n",
      "Epoch 9/50\n",
      " - 0s - loss: 1.0160e-04\n",
      "Epoch 10/50\n",
      " - 0s - loss: 7.4911e-05\n",
      "Epoch 11/50\n",
      " - 0s - loss: 6.9303e-05\n",
      "Epoch 12/50\n",
      " - 0s - loss: 5.8302e-05\n",
      "Epoch 13/50\n",
      " - 0s - loss: 5.3947e-05\n",
      "Epoch 14/50\n",
      " - 0s - loss: 4.8728e-05\n",
      "Epoch 15/50\n",
      " - 0s - loss: 5.8212e-05\n",
      "Epoch 16/50\n",
      " - 0s - loss: 6.9634e-05\n",
      "Epoch 17/50\n",
      " - 0s - loss: 4.0381e-05\n",
      "Epoch 18/50\n",
      " - 0s - loss: 3.4131e-05\n",
      "Epoch 19/50\n",
      " - 0s - loss: 3.7760e-05\n",
      "Epoch 20/50\n",
      " - 0s - loss: 5.5089e-05\n",
      "Epoch 21/50\n",
      " - 0s - loss: 3.1485e-05\n",
      "Epoch 22/50\n",
      " - 0s - loss: 2.9684e-05\n",
      "Epoch 23/50\n",
      " - 0s - loss: 2.8411e-05\n",
      "Epoch 24/50\n",
      " - 0s - loss: 3.4527e-05\n",
      "Epoch 25/50\n",
      " - 0s - loss: 2.6026e-05\n",
      "Epoch 26/50\n",
      " - 0s - loss: 2.3656e-05\n",
      "Epoch 27/50\n",
      " - 0s - loss: 2.1731e-05\n",
      "Epoch 28/50\n",
      " - 0s - loss: 2.5504e-05\n",
      "Epoch 29/50\n",
      " - 0s - loss: 2.4802e-05\n",
      "Epoch 30/50\n",
      " - 0s - loss: 2.1677e-05\n",
      "Epoch 31/50\n",
      " - 0s - loss: 3.3145e-05\n",
      "Epoch 32/50\n",
      " - 0s - loss: 2.1167e-05\n",
      "Epoch 33/50\n",
      " - 0s - loss: 2.1312e-05\n",
      "Epoch 34/50\n",
      " - 0s - loss: 2.1827e-05\n",
      "Epoch 35/50\n",
      " - 0s - loss: 2.5391e-05\n",
      "Epoch 36/50\n",
      " - 0s - loss: 2.7949e-05\n",
      "Epoch 37/50\n",
      " - 0s - loss: 2.2627e-05\n",
      "Epoch 38/50\n",
      " - 0s - loss: 2.0507e-05\n",
      "Epoch 39/50\n",
      " - 0s - loss: 1.8280e-05\n",
      "Epoch 40/50\n",
      " - 0s - loss: 2.1268e-05\n",
      "Epoch 41/50\n",
      " - 0s - loss: 3.3388e-05\n",
      "Epoch 42/50\n",
      " - 0s - loss: 2.9092e-05\n",
      "Epoch 43/50\n",
      " - 0s - loss: 2.6891e-05\n",
      "Epoch 44/50\n",
      " - 0s - loss: 2.7179e-05\n",
      "Epoch 45/50\n",
      " - 0s - loss: 2.2383e-05\n",
      "Epoch 46/50\n",
      " - 0s - loss: 3.5679e-05\n",
      "Epoch 47/50\n",
      " - 0s - loss: 3.4162e-05\n",
      "Epoch 48/50\n",
      " - 0s - loss: 3.5844e-05\n",
      "Epoch 49/50\n",
      " - 0s - loss: 3.7718e-05\n",
      "Epoch 50/50\n",
      " - 0s - loss: 4.0113e-05\n"
     ]
    },
    {
     "data": {
      "text/plain": [
       "<keras.callbacks.History at 0x2b7d74efc88>"
      ]
     },
     "execution_count": 10,
     "metadata": {},
     "output_type": "execute_result"
    }
   ],
   "source": [
    "model.fit(\n",
    "    X,\n",
    "    Y,\n",
    "    epochs=50,\n",
    "    shuffle=True,\n",
    "    verbose=2\n",
    ")"
   ]
  },
  {
   "cell_type": "code",
   "execution_count": 11,
   "metadata": {
    "collapsed": true
   },
   "outputs": [],
   "source": [
    "test_data_df = scaled_testing_df.copy()\n",
    "\n",
    "X_test = test_data_df.drop('total_earnings', axis=1).values\n",
    "Y_test = test_data_df[['total_earnings']].values"
   ]
  },
  {
   "cell_type": "code",
   "execution_count": 12,
   "metadata": {},
   "outputs": [
    {
     "name": "stdout",
     "output_type": "stream",
     "text": [
      "The mean squared error (MSE) for the test data set is: 0.00010563843767158687\n"
     ]
    }
   ],
   "source": [
    "test_error_rate = model.evaluate(X_test, Y_test, verbose=0)\n",
    "print(\"The mean squared error (MSE) for the test data set is: {}\".format(test_error_rate))"
   ]
  },
  {
   "cell_type": "markdown",
   "metadata": {},
   "source": [
    "## predict"
   ]
  },
  {
   "cell_type": "code",
   "execution_count": 13,
   "metadata": {
    "collapsed": true
   },
   "outputs": [],
   "source": [
    "X = pd.read_csv(\"04/proposed_new_product.csv\").values"
   ]
  },
  {
   "cell_type": "code",
   "execution_count": 14,
   "metadata": {
    "collapsed": true
   },
   "outputs": [],
   "source": [
    "prediction = model.predict(X)"
   ]
  },
  {
   "cell_type": "code",
   "execution_count": 15,
   "metadata": {
    "collapsed": true
   },
   "outputs": [],
   "source": [
    "# Grab just the first element of the first prediction (since that's the only have one)\n",
    "prediction = prediction[0][0]"
   ]
  },
  {
   "cell_type": "code",
   "execution_count": 16,
   "metadata": {},
   "outputs": [
    {
     "name": "stdout",
     "output_type": "stream",
     "text": [
      "Earnings Prediction for Proposed Product - $264798.70252499875\n"
     ]
    }
   ],
   "source": [
    "# Re-scale the data from the 0-to-1 range back to dollars\n",
    "# These constants are from when the data was originally scaled down to the 0-to-1 range\n",
    "prediction = prediction + 0.1159\n",
    "prediction = prediction / 0.0000036968\n",
    "\n",
    "print(\"Earnings Prediction for Proposed Product - ${}\".format(prediction))"
   ]
  },
  {
   "cell_type": "markdown",
   "metadata": {},
   "source": [
    "## save model"
   ]
  },
  {
   "cell_type": "code",
   "execution_count": 17,
   "metadata": {},
   "outputs": [
    {
     "name": "stdout",
     "output_type": "stream",
     "text": [
      "Model saved to disk\n"
     ]
    }
   ],
   "source": [
    "model.save(\"trained_model.h5\")\n",
    "print(\"Model saved to disk\")"
   ]
  },
  {
   "cell_type": "markdown",
   "metadata": {},
   "source": [
    "## load model"
   ]
  },
  {
   "cell_type": "code",
   "execution_count": 18,
   "metadata": {
    "collapsed": true
   },
   "outputs": [],
   "source": [
    "from keras.models import load_model"
   ]
  },
  {
   "cell_type": "code",
   "execution_count": 19,
   "metadata": {
    "collapsed": true
   },
   "outputs": [],
   "source": [
    "model_disk = load_model(\"trained_model.h5\")"
   ]
  },
  {
   "cell_type": "code",
   "execution_count": 20,
   "metadata": {},
   "outputs": [
    {
     "name": "stdout",
     "output_type": "stream",
     "text": [
      "Earnings Prediction for Proposed Product - $264798.70252499875\n"
     ]
    }
   ],
   "source": [
    "X = pd.read_csv(\"Exercise Files/04/proposed_new_product.csv\").values\n",
    "prediction = model_disk.predict(X)\n",
    "\n",
    "# Grab just the first element of the first prediction (since that's the only have one)\n",
    "prediction = prediction[0][0]\n",
    "\n",
    "# Re-scale the data from the 0-to-1 range back to dollars\n",
    "# These constants are from when the data was originally scaled down to the 0-to-1 range\n",
    "prediction = prediction + 0.1159\n",
    "prediction = prediction / 0.0000036968\n",
    "\n",
    "print(\"Earnings Prediction for Proposed Product - ${}\".format(prediction))"
   ]
  },
  {
   "cell_type": "code",
   "execution_count": null,
   "metadata": {
    "collapsed": true
   },
   "outputs": [],
   "source": []
  }
 ],
 "metadata": {
  "kernelspec": {
   "display_name": "Python [conda env:py35_b]",
   "language": "python",
   "name": "conda-env-py35_b-py"
  },
  "language_info": {
   "codemirror_mode": {
    "name": "ipython",
    "version": 3
   },
   "file_extension": ".py",
   "mimetype": "text/x-python",
   "name": "python",
   "nbconvert_exporter": "python",
   "pygments_lexer": "ipython3",
   "version": "3.5.4"
  }
 },
 "nbformat": 4,
 "nbformat_minor": 2
}
